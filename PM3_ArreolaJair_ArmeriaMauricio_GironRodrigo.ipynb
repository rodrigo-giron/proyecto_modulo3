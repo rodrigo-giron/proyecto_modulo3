{
 "cells": [
  {
   "cell_type": "markdown",
   "metadata": {},
   "source": [
    "![](Logo-ITESO-MinimoV.png)\n",
    "\n",
    "Instituto Tecnológico de Estudiios Superiores de Occidente\n",
    "\n",
    "**Integrante 1:** Alan Mauricio Armeria Alarcon.\n",
    "**Integrante 2:** Rodrigo Girón Lugo.\n",
    "**Integrante 3:** Jair Salvador Arreola Espinosa\n",
    "\n",
    "**Expediente:** IC702784, IC705044, IC708476\n",
    "\n",
    "**Carrera:** Ingeniería Civil \n",
    "\n",
    "**Profesor:** Cristian Camilo Zapata Zuluaga"
   ]
  },
  {
   "cell_type": "markdown",
   "metadata": {},
   "source": [
    "### Analisis de una viga simplemente apoyada\n",
    "En el presente trabajo vamos a estudiar el comportamiento de una viga simplente apoyada, en donde esta es conformada por una viga con dos apoyos en los extremos, siendo esta de 10 metros de longitud y sección\n",
    "rectangular la cual va hacer sometedia a la acción de diferentes esfuerzos.\n",
    "\n"
   ]
  },
  {
   "cell_type": "markdown",
   "metadata": {},
   "source": [
    "![](https://encrypted-tbn0.gstatic.com/images?q=tbn:ANd9GcTk04yNaBRvykDV5OGlYo6ycQa3BhTvnoZji6qqnBk4Ssc12k2h&)"
   ]
  },
  {
   "cell_type": "markdown",
   "metadata": {},
   "source": [
    "Se supondra que el desplazamiento de la viga y el momento flector cumplen la\n",
    "ecuación de la elástica:\n",
    "\\begin{equation}\n",
    "y´´ = \\frac{M(x)}{EI(x)}.\n",
    "\\end{equation}\n",
    "\n",
    "la viga ocupa el intervalo x∈{0,L} denotamos el desplazamiento vertical de su eje por y(x).\n",
    "\n",
    "**Donde:**\n",
    "> E es el Modulo De Elasticidad del material en la viga a evaluar\n",
    "\n",
    "> I inercia de la sección rectangular\n",
    "\n",
    ">M(x) momento flector y este representa el momento de las fuerzas aplicadas sobre la viga\n",
    "\n",
    "Datos propuestos:\n",
    ">E = 5 ⋅ 10^4\n",
    "\n",
    ">a = 0.6 b = 0.3\n",
    "\n",
    ">M(x) = L/2 − |x − L/2 |\n",
    "\n",
    "\n"
   ]
  },
  {
   "cell_type": "code",
   "execution_count": 1,
   "metadata": {},
   "outputs": [],
   "source": [
    "import matplotlib.pyplot as plt\n",
    "%matplotlib inline\n",
    "import numpy as np\n",
    "from scipy.integrate import odeint"
   ]
  },
  {
   "cell_type": "code",
   "execution_count": 2,
   "metadata": {},
   "outputs": [],
   "source": [
    "def f(y, x):\n",
    "    return np.array([y[1], M(x) / (E * I(x))])"
   ]
  },
  {
   "cell_type": "code",
   "execution_count": 3,
   "metadata": {},
   "outputs": [],
   "source": [
    "# Datos\n",
    "L = 10 # Longitud de la viga\n",
    "E = 5e4 # módulo de Elasticidad del material\n",
    "h = 0.6 # altura sección\n",
    "b = 0.3 # ancho sección"
   ]
  },
  {
   "cell_type": "code",
   "execution_count": 35,
   "metadata": {},
   "outputs": [],
   "source": [
    "# Dominio\n",
    "x = np.linspace(0, L,50)"
   ]
  },
  {
   "cell_type": "code",
   "execution_count": 36,
   "metadata": {},
   "outputs": [],
   "source": [
    "#VECTOR DE TIEMPOS,\n",
    "#el cual nos servira para delimitar el claro de nuestra viga\n",
    "t = np.linspace(0, 10)"
   ]
  },
  {
   "cell_type": "code",
   "execution_count": 37,
   "metadata": {},
   "outputs": [],
   "source": [
    "# Inercia\n",
    "def I(x):\n",
    "    return b * h**3 / 12"
   ]
  },
  {
   "cell_type": "code",
   "execution_count": 38,
   "metadata": {},
   "outputs": [],
   "source": [
    "# Momento flector\n",
    "def M(x):\n",
    "    return L/2 - np.abs(x - L/2)"
   ]
  },
  {
   "cell_type": "code",
   "execution_count": 39,
   "metadata": {},
   "outputs": [
    {
     "data": {
      "text/plain": [
       "0.5129629801243984"
      ]
     },
     "execution_count": 39,
     "metadata": {},
     "output_type": "execute_result"
    }
   ],
   "source": [
    "def viga_simp(yp0):\n",
    "    y0 = np.array([0, yp0])\n",
    "    sol = odeint(f, y0, x)\n",
    "    return sol[-1, 0]\n",
    "viga_simp(5e-3)"
   ]
  },
  {
   "cell_type": "code",
   "execution_count": 40,
   "metadata": {},
   "outputs": [],
   "source": [
    "# importamos newton\n",
    "from scipy.optimize import newton"
   ]
  },
  {
   "cell_type": "code",
   "execution_count": 41,
   "metadata": {},
   "outputs": [
    {
     "data": {
      "text/plain": [
       "-0.04629628736783764"
      ]
     },
     "execution_count": 41,
     "metadata": {},
     "output_type": "execute_result"
    }
   ],
   "source": [
    "# Lo utilizamos sobre la funcion anterior para hallar la solución\n",
    "newton(viga_simp, 5e-2)"
   ]
  },
  {
   "cell_type": "code",
   "execution_count": 42,
   "metadata": {},
   "outputs": [
    {
     "name": "stdout",
     "output_type": "stream",
     "text": [
      "[[ 0.00000000e+00 -4.62962874e-02]\n",
      " [-9.44296136e-03 -4.62191590e-02]\n",
      " [-1.88544555e-02 -4.59877739e-02]\n",
      " [-2.82029877e-02 -4.56021322e-02]\n",
      " [-3.74570770e-02 -4.50622337e-02]\n",
      " [-4.65852425e-02 -4.43680784e-02]\n",
      " [-5.55560031e-02 -4.35196665e-02]\n",
      " [-6.43378780e-02 -4.25169979e-02]\n",
      " [-7.28993861e-02 -4.13600725e-02]\n",
      " [-8.12090466e-02 -4.00488904e-02]\n",
      " [-8.92353784e-02 -3.85834517e-02]\n",
      " [-9.69469006e-02 -3.69637562e-02]\n",
      " [-1.04312132e-01 -3.51898040e-02]\n",
      " [-1.11299592e-01 -3.32615950e-02]\n",
      " [-1.17877800e-01 -3.11791294e-02]\n",
      " [-1.24015274e-01 -2.89424070e-02]\n",
      " [-1.29680533e-01 -2.65514280e-02]\n",
      " [-1.34842098e-01 -2.40061922e-02]\n",
      " [-1.39468486e-01 -2.13066997e-02]\n",
      " [-1.43528216e-01 -1.84529505e-02]\n",
      " [-1.46989808e-01 -1.54449446e-02]\n",
      " [-1.49821781e-01 -1.22826819e-02]\n",
      " [-1.51992654e-01 -8.96616257e-03]\n",
      " [-1.53470946e-01 -5.49538651e-03]\n",
      " [-1.54225176e-01 -1.87035373e-03]\n",
      " [-1.54225168e-01  1.87034936e-03]\n",
      " [-1.53470939e-01  5.49538214e-03]\n",
      " [-1.51992648e-01  8.96615820e-03]\n",
      " [-1.49821776e-01  1.22826776e-02]\n",
      " [-1.46989804e-01  1.54449402e-02]\n",
      " [-1.43528213e-01  1.84529461e-02]\n",
      " [-1.39468483e-01  2.13066953e-02]\n",
      " [-1.34842096e-01  2.40061878e-02]\n",
      " [-1.29680533e-01  2.65514236e-02]\n",
      " [-1.24015274e-01  2.89424027e-02]\n",
      " [-1.17877801e-01  3.11791250e-02]\n",
      " [-1.11299594e-01  3.32615907e-02]\n",
      " [-1.04312135e-01  3.51897996e-02]\n",
      " [-9.69469045e-02  3.69637518e-02]\n",
      " [-8.92353832e-02  3.85834473e-02]\n",
      " [-8.12090523e-02  4.00488861e-02]\n",
      " [-7.28993927e-02  4.13600681e-02]\n",
      " [-6.43378855e-02  4.25169935e-02]\n",
      " [-5.55560115e-02  4.35196621e-02]\n",
      " [-4.65852517e-02  4.43680741e-02]\n",
      " [-3.74570871e-02  4.50622293e-02]\n",
      " [-2.82029987e-02  4.56021278e-02]\n",
      " [-1.88544674e-02  4.59877696e-02]\n",
      " [-9.44297419e-03  4.62191546e-02]\n",
      " [ 4.09394740e-16  4.62962830e-02]]\n"
     ]
    },
    {
     "data": {
      "text/plain": [
       "<matplotlib.legend.Legend at 0x152045b518>"
      ]
     },
     "execution_count": 42,
     "metadata": {},
     "output_type": "execute_result"
    },
    {
     "data": {
      "image/png": "[encoded data removed]",
      "text/plain": [
       "<Figure size 432x288 with 1 Axes>"
      ]
     },
     "metadata": {
      "needs_background": "light"
     },
     "output_type": "display_data"
    }
   ],
   "source": [
    "# Pintamos la solución final\n",
    "# Cálculo de condición inicial para cumplir la condición\n",
    "# de contorno\n",
    "yp0 = newton(viga_simp, 5e-2)\n",
    "# Condición inicial\n",
    "y0 = np.array([0, yp0])\n",
    "# Solución\n",
    "sol = odeint(f, y0, x)\n",
    "print(sol)\n",
    "# Plot\n",
    "plt.plot(t, sol[:, 0], label='Deflexion final de la viga')\n",
    "plt.legend()"
   ]
  },
  {
   "cell_type": "markdown",
   "metadata": {},
   "source": [
    "### Conlusiones:\n",
    ">Tras la elaboración de este proyecto nos permitimos concluir que la aplicación del uso de las tecnologias como lo es python es de suma importancía, ya que como podemos ver nos ha ayudado a simplificar conceptos que aplicamos en nuestra carrera, a su vez ver de manera grafica y clara el comportamiento de una viga por ejemplo. \n",
    "\n",
    ">De igual manera la elaboración de este codigo nos ayudara a ver como sera el deflexión de la viga , ya que si variamos las propiedades de esta ya sea su sección o cambiando entre diferentes modulos de elasticidad sea concreto acero o madera. Podremos ver como cambian entre uno y otro\n",
    "\n",
    "Resaltamos el siguiente link el cuál sirvio de apoyo. \n",
    "https://mat.caminos.upm.es/wiki/Ecuaci%C3%B3n_de_vigas:_Modelo_de_Euler-Bernoulli_(13A) "
   ]
  },
  {
   "cell_type": "code",
   "execution_count": null,
   "metadata": {},
   "outputs": [],
   "source": []
  }
 ],
 "metadata": {
  "kernelspec": {
   "display_name": "Python 3",
   "language": "python",
   "name": "python3"
  },
  "language_info": {
   "codemirror_mode": {
    "name": "ipython",
    "version": 3
   },
   "file_extension": ".py",
   "mimetype": "text/x-python",
   "name": "python",
   "nbconvert_exporter": "python",
   "pygments_lexer": "ipython3",
   "version": "3.7.3"
  }
 },
 "nbformat": 4,
 "nbformat_minor": 2
}
